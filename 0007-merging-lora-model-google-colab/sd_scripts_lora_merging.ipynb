{
  "nbformat": 4,
  "nbformat_minor": 0,
  "metadata": {
    "colab": {
      "provenance": []
    },
    "kernelspec": {
      "name": "python3",
      "display_name": "Python 3"
    },
    "language_info": {
      "name": "python"
    },
    "accelerator": "GPU",
    "gpuClass": "standard"
  },
  "cells": [
    {
      "cell_type": "markdown",
      "metadata": {
        "id": "view-in-github",
        "colab_type": "text"
      },
      "source": [
        "<a href=\"https://colab.research.google.com/github/lifeisboringsoprogramming/youtube/blob/master/0007-merging-lora-model-google-colab/sd_scripts_lora_merging.ipynb\" target=\"_parent\"><img src=\"https://colab.research.google.com/assets/colab-badge.svg\" alt=\"Open In Colab\"/></a>"
      ]
    },
    {
      "cell_type": "markdown",
      "source": [
        "[![Stable Diffusion merging LoRA models on Google colab](https://img.youtube.com/vi/_g0vLr-ekzg/sddefault.jpg)](https://www.youtube.com/watch?v=_g0vLr-ekzg)"
      ],
      "metadata": {
        "id": "pBbeMmDZIA6w"
      }
    },
    {
      "cell_type": "markdown",
      "source": [
        "# Clone the sd-scripts repository"
      ],
      "metadata": {
        "id": "yw-ci4cMyqey"
      }
    },
    {
      "cell_type": "code",
      "source": [
        "!git clone https://github.com/kohya-ss/sd-scripts.git"
      ],
      "metadata": {
        "id": "3lqVkdVbnnXm"
      },
      "execution_count": null,
      "outputs": []
    },
    {
      "cell_type": "markdown",
      "source": [
        "# Install PyTorch "
      ],
      "metadata": {
        "id": "vHRoAzOuyybz"
      }
    },
    {
      "cell_type": "code",
      "source": [
        "!pip install torch==1.12.1+cu116 torchvision==0.13.1+cu116 --extra-index-url https://download.pytorch.org/whl/cu116"
      ],
      "metadata": {
        "id": "3LOmZTVwjGzi"
      },
      "execution_count": null,
      "outputs": []
    },
    {
      "cell_type": "markdown",
      "source": [
        "# Install requirements"
      ],
      "metadata": {
        "id": "PGwqxvb9y4m0"
      }
    },
    {
      "cell_type": "code",
      "source": [
        "!cd /content/sd-scripts && pip install -r requirements.txt"
      ],
      "metadata": {
        "id": "KM9v8Y8xgycJ"
      },
      "execution_count": null,
      "outputs": []
    },
    {
      "cell_type": "markdown",
      "source": [
        "# Download sample LoRA models"
      ],
      "metadata": {
        "id": "cpyTI0X1y8V8"
      }
    },
    {
      "cell_type": "code",
      "source": [
        "!wget https://civitai.com/api/download/models/6719 -O taylorSwift_6719.safetensors\n",
        "!wget https://civitai.com/api/download/models/6467 -O kirstenDunst_6467.safetensors\n",
        "!wget https://civitai.com/api/download/models/19876 -O scarlettJohansson_19876.safetensors"
      ],
      "metadata": {
        "id": "Lx6QHRbVoELk"
      },
      "execution_count": null,
      "outputs": []
    },
    {
      "cell_type": "markdown",
      "source": [
        "# Merge two LoRA models together"
      ],
      "metadata": {
        "id": "a8pOdjcYzAQU"
      }
    },
    {
      "cell_type": "code",
      "source": [
        "!python sd-scripts/networks/merge_lora.py \\\n",
        "--save_precision bf16 \\\n",
        "--save_to /content/kirstenDunst_6467-taylorSwift_6719-bf16.safetensors \\\n",
        "--models \\\n",
        "    /content/kirstenDunst_6467.safetensors \\\n",
        "    /content/taylorSwift_6719.safetensors \\\n",
        "--ratios 0.5 0.5\n"
      ],
      "metadata": {
        "id": "NUuDHEJHiHwD"
      },
      "execution_count": null,
      "outputs": []
    },
    {
      "cell_type": "markdown",
      "source": [
        "# Merge three LoRA models together"
      ],
      "metadata": {
        "id": "h6TRWPmQzMxO"
      }
    },
    {
      "cell_type": "code",
      "source": [
        "!python sd-scripts/networks/merge_lora.py \\\n",
        "--save_precision bf16 \\\n",
        "--save_to /content/kirstenDunst_6467-taylorSwift_6719-scarlettJohansson_19876-bf16.safetensors \\\n",
        "--models \\\n",
        "    /content/kirstenDunst_6467.safetensors \\\n",
        "    /content/taylorSwift_6719.safetensors \\\n",
        "    /content/scarlettJohansson_19876.safetensors \\\n",
        "--ratios 0.3 0.3 0.3\n"
      ],
      "metadata": {
        "id": "4dibQL-gx6sV"
      },
      "execution_count": null,
      "outputs": []
    },
    {
      "cell_type": "markdown",
      "source": [
        "# Try upload your LoRA models and merge them\n",
        "You can drag and drop your LoRA models from your computer to the hard drive on google colab\n",
        "\n",
        "modify the scripts to use your uploaded LoRA models\n",
        "\n",
        "Enjoy!"
      ],
      "metadata": {
        "id": "subzCHO1zqjx"
      }
    },
    {
      "cell_type": "code",
      "source": [
        "# merge your LoRA models here\n",
        "# remove the comment # below\n",
        "# replace my-own-lora to your output LoRA model name\n",
        "# replace the uploaded-lora-01, uploaded-lora-02 to your uploaded LoRA model names\n",
        "\n",
        "# !python sd-scripts/networks/merge_lora.py \\\n",
        "# --save_precision bf16 \\\n",
        "# --save_to /content/my-own-lora.safetensors \\\n",
        "# --models \\\n",
        "#     /content/uploaded-lora-01.safetensors \\\n",
        "#     /content/uploaded-lora-02.safetensors \\\n",
        "# --ratios 0.5 0.5"
      ],
      "metadata": {
        "id": "81mF0Z_Mzs0R"
      },
      "execution_count": null,
      "outputs": []
    }
  ]
}