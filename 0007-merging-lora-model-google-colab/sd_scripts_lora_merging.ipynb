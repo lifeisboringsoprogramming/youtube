{
  "cells": [
    {
      "cell_type": "markdown",
      "metadata": {
        "colab_type": "text",
        "id": "view-in-github"
      },
      "source": [
        "<a href=\"https://colab.research.google.com/github/lifeisboringsoprogramming/youtube/blob/master/0007-merging-lora-model-google-colab/sd_scripts_lora_merging.ipynb\" target=\"_parent\"><img src=\"https://colab.research.google.com/assets/colab-badge.svg\" alt=\"Open In Colab\"/></a>"
      ]
    },
    {
      "cell_type": "markdown",
      "metadata": {
        "id": "pBbeMmDZIA6w"
      },
      "source": [
        "[![Stable Diffusion merging LoRA models on Google colab](https://img.youtube.com/vi/_g0vLr-ekzg/sddefault.jpg)](https://www.youtube.com/watch?v=_g0vLr-ekzg)"
      ]
    },
    {
      "cell_type": "markdown",
      "metadata": {
        "id": "yw-ci4cMyqey"
      },
      "source": [
        "# Clone the sd-scripts repository"
      ]
    },
    {
      "cell_type": "code",
      "execution_count": null,
      "metadata": {
        "id": "3lqVkdVbnnXm"
      },
      "outputs": [],
      "source": [
        "!git clone https://github.com/kohya-ss/sd-scripts.git"
      ]
    },
    {
      "cell_type": "markdown",
      "metadata": {
        "id": "vHRoAzOuyybz"
      },
      "source": [
        "# Install PyTorch "
      ]
    },
    {
      "cell_type": "code",
      "execution_count": null,
      "metadata": {
        "id": "3LOmZTVwjGzi"
      },
      "outputs": [],
      "source": [
        "!pip install torch==1.12.1+cu116 torchvision==0.13.1+cu116 --extra-index-url https://download.pytorch.org/whl/cu116"
      ]
    },
    {
      "cell_type": "markdown",
      "metadata": {
        "id": "PGwqxvb9y4m0"
      },
      "source": [
        "# Install requirements"
      ]
    },
    {
      "cell_type": "code",
      "execution_count": null,
      "metadata": {
        "id": "KM9v8Y8xgycJ"
      },
      "outputs": [],
      "source": [
        "!cd /content/sd-scripts && pip install -r requirements.txt"
      ]
    },
    {
      "cell_type": "markdown",
      "metadata": {
        "id": "cpyTI0X1y8V8"
      },
      "source": [
        "# Download sample LoRA models"
      ]
    },
    {
      "cell_type": "code",
      "execution_count": null,
      "metadata": {
        "id": "Lx6QHRbVoELk"
      },
      "outputs": [],
      "source": [
        "!wget https://civitai.com/api/download/models/6719 -O taylorSwift_6719.safetensors\n",
        "!wget https://civitai.com/api/download/models/6467 -O kirstenDunst_6467.safetensors\n",
        "!wget https://civitai.com/api/download/models/19876 -O scarlettJohansson_19876.safetensors"
      ]
    },
    {
      "cell_type": "markdown",
      "metadata": {
        "id": "a8pOdjcYzAQU"
      },
      "source": [
        "# Merge two LoRA models together"
      ]
    },
    {
      "cell_type": "code",
      "execution_count": null,
      "metadata": {
        "id": "NUuDHEJHiHwD"
      },
      "outputs": [],
      "source": [
        "!python sd-scripts/networks/merge_lora.py \\\n",
        "--save_precision fp16 \\\n",
        "--save_to /content/kirstenDunst_6467-taylorSwift_6719-fp16.safetensors \\\n",
        "--models \\\n",
        "    /content/kirstenDunst_6467.safetensors \\\n",
        "    /content/taylorSwift_6719.safetensors \\\n",
        "--ratios 0.5 0.5\n"
      ]
    },
    {
      "cell_type": "markdown",
      "metadata": {
        "id": "h6TRWPmQzMxO"
      },
      "source": [
        "# Merge three LoRA models together"
      ]
    },
    {
      "cell_type": "code",
      "execution_count": null,
      "metadata": {
        "id": "4dibQL-gx6sV"
      },
      "outputs": [],
      "source": [
        "!python sd-scripts/networks/merge_lora.py \\\n",
        "--save_precision fp16 \\\n",
        "--save_to /content/kirstenDunst_6467-taylorSwift_6719-scarlettJohansson_19876-fp16.safetensors \\\n",
        "--models \\\n",
        "    /content/kirstenDunst_6467.safetensors \\\n",
        "    /content/taylorSwift_6719.safetensors \\\n",
        "    /content/scarlettJohansson_19876.safetensors \\\n",
        "--ratios 0.3 0.3 0.3\n"
      ]
    },
    {
      "cell_type": "markdown",
      "metadata": {
        "id": "subzCHO1zqjx"
      },
      "source": [
        "# Try upload your LoRA models and merge them\n",
        "You can drag and drop your LoRA models from your computer to the hard drive on google colab\n",
        "\n",
        "modify the scripts to use your uploaded LoRA models\n",
        "\n",
        "Enjoy!"
      ]
    },
    {
      "cell_type": "code",
      "execution_count": null,
      "metadata": {
        "id": "81mF0Z_Mzs0R"
      },
      "outputs": [],
      "source": [
        "# merge your LoRA models here\n",
        "# remove the comment # below\n",
        "# replace my-own-lora to your output LoRA model name\n",
        "# replace the uploaded-lora-01, uploaded-lora-02 to your uploaded LoRA model names\n",
        "\n",
        "# !python sd-scripts/networks/merge_lora.py \\\n",
        "# --save_precision fp16 \\\n",
        "# --save_to /content/my-own-lora.safetensors \\\n",
        "# --models \\\n",
        "#     /content/uploaded-lora-01.safetensors \\\n",
        "#     /content/uploaded-lora-02.safetensors \\\n",
        "# --ratios 0.5 0.5"
      ]
    },
    {
      "attachments": {},
      "cell_type": "markdown",
      "metadata": {},
      "source": [
        "# Patreon\n",
        "☕️ Please consider to support me in Patreon 🍻\n",
        "\n",
        "[https://www.patreon.com/lifeisboringsoprogramming](https://www.patreon.com/lifeisboringsoprogramming)"
      ]
    }
  ],
  "metadata": {
    "accelerator": "GPU",
    "colab": {
      "provenance": []
    },
    "gpuClass": "standard",
    "kernelspec": {
      "display_name": "Python 3",
      "name": "python3"
    },
    "language_info": {
      "name": "python"
    }
  },
  "nbformat": 4,
  "nbformat_minor": 0
}
