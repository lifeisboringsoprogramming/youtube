{
    "cells": [
        {
            "cell_type": "markdown",
            "metadata": {
                "id": "view-in-github"
            },
            "source": [
                "<a href=\"https://colab.research.google.com/github/lifeisboringsoprogramming/youtube/blob/master/0020-merge-lora-to-checkpoint/sd_scripts_merge_lora_into_checkpoint.ipynb\" target=\"_parent\"><img src=\"https://colab.research.google.com/assets/colab-badge.svg\" alt=\"Open In Colab\"/></a>"
            ]
        },
        {
            "cell_type": "markdown",
            "metadata": {
                "id": "pBbeMmDZIA6w"
            },
            "source": [
                "[![Stable Diffusion merging LoRA models to checkpoint How To](https://img.youtube.com/vi/9Kz8RfrzxC8/sddefault.jpg)](https://www.youtube.com/watch?v=9Kz8RfrzxC8)"
            ]
        },
        {
            "cell_type": "markdown",
            "metadata": {
                "id": "yw-ci4cMyqey"
            },
            "source": [
                "# Clone the sd-scripts repository"
            ]
        },
        {
            "cell_type": "code",
            "execution_count": null,
            "metadata": {
                "id": "3lqVkdVbnnXm"
            },
            "outputs": [],
            "source": [
                "!git clone https://github.com/kohya-ss/sd-scripts.git"
            ]
        },
        {
            "cell_type": "markdown",
            "metadata": {
                "id": "vHRoAzOuyybz"
            },
            "source": [
                "# Install PyTorch"
            ]
        },
        {
            "cell_type": "code",
            "execution_count": null,
            "metadata": {
                "id": "3LOmZTVwjGzi"
            },
            "outputs": [],
            "source": [
                "!pip install torch==1.12.1+cu116 torchvision==0.13.1+cu116 --extra-index-url https://download.pytorch.org/whl/cu116"
            ]
        },
        {
            "cell_type": "markdown",
            "metadata": {
                "id": "PGwqxvb9y4m0"
            },
            "source": [
                "# Install requirements"
            ]
        },
        {
            "cell_type": "code",
            "execution_count": null,
            "metadata": {
                "id": "KM9v8Y8xgycJ"
            },
            "outputs": [],
            "source": [
                "!cd /content/sd-scripts && pip install -r requirements.txt"
            ]
        },
        {
            "cell_type": "markdown",
            "source": [
                "# Download sample checkpoint models"
            ],
            "metadata": {
                "id": "x1vYReiRq4oG"
            }
        },
        {
            "cell_type": "code",
            "source": [
                "!wget https://civitai.com/api/download/models/11745 -O chilloutmix_NiPrunedFp32Fix.safetensors"
            ],
            "metadata": {
                "id": "m9dYfl8pqrv_"
            },
            "execution_count": null,
            "outputs": []
        },
        {
            "cell_type": "markdown",
            "metadata": {
                "id": "cpyTI0X1y8V8"
            },
            "source": [
                "# Download sample LoRA models"
            ]
        },
        {
            "cell_type": "code",
            "execution_count": null,
            "metadata": {
                "id": "Lx6QHRbVoELk"
            },
            "outputs": [],
            "source": [
                "!wget https://github.com/lifeisboringsoprogramming/youtube/raw/master/0018-stable-diffusion-how-to-install-kohya-ss-gui-for-lo-ra-training-on-linux/libsp.safetensors -O libsp.safetensors"
            ]
        },
        {
            "cell_type": "markdown",
            "metadata": {
                "id": "a8pOdjcYzAQU"
            },
            "source": [
                "# Merge LoRA model into checkpoint"
            ]
        },
        {
            "cell_type": "code",
            "execution_count": null,
            "metadata": {
                "id": "NUuDHEJHiHwD"
            },
            "outputs": [],
            "source": [
                "!python sd-scripts/networks/merge_lora.py \\\n",
                "--save_precision fp16 \\\n",
                "--sd_model /content/chilloutmix_NiPrunedFp32Fix.safetensors \\\n",
                "--models /content/libsp.safetensors \\\n",
                "--ratios 1.0 \\\n",
                "--save_to /content/libsp_chilloutmix.safetensors\n",
                "\n"
            ]
        },
        {
            "cell_type": "markdown",
            "source": [
                "# Mount google drive to save the result"
            ],
            "metadata": {
                "id": "NUwc07KutjmT"
            }
        },
        {
            "cell_type": "code",
            "source": [
                "from google.colab import drive\n",
                "drive.mount('/content/drive')"
            ],
            "metadata": {
                "id": "BryFUqb2tdGO"
            },
            "execution_count": null,
            "outputs": []
        },
        {
            "cell_type": "code",
            "source": [
                "!cp /content/libsp_chilloutmix.safetensors /content/drive/MyDrive/"
            ],
            "metadata": {
                "id": "EDPBJcQVttj7"
            },
            "execution_count": null,
            "outputs": []
        },
        {
            "cell_type": "markdown",
            "metadata": {
                "id": "subzCHO1zqjx"
            },
            "source": [
                "# Try upload your LoRA models and merge them\n",
                "You can drag and drop your LoRA models and checkpoint from your computer to the hard drive on google colab\n",
                "\n",
                "modify the scripts to use your uploaded LoRA models and checkpoint\n",
                "\n",
                "Enjoy!"
            ]
        },
        {
            "cell_type": "code",
            "execution_count": null,
            "metadata": {
                "id": "81mF0Z_Mzs0R"
            },
            "outputs": [],
            "source": [
                "# merge your LoRA models here\n",
                "# remove the comment # below\n",
                "# replace my-own-checkpoint to your output checkpoint model name\n",
                "# replace the uploaded-lora, uploaded-checkpoint to your uploaded checkpoint and LoRA model names\n",
                "\n",
                "!python sd-scripts/networks//merge_lora.py \\\n",
                "--save_precision fp16 \\\n",
                "--sd_model /content/uploaded-checkpoint.safetensors \\\n",
                "--models /content/uploaded-lora.safetensors \\\n",
                "--ratios 1.0 \\\n",
                "--save_to /content/my-own-checkpoint.safetensors\n"
            ]
        },
        {
            "cell_type": "code",
            "source": [
                "# Copy the result to your google drive\n",
                "# replace my-own-checkpoint to your output checkpoint model name\n",
                "!cp /content/my-own-checkpoint.safetensors /content/drive/MyDrive/"
            ],
            "metadata": {
                "id": "cllBjUWGt0zZ"
            },
            "execution_count": null,
            "outputs": []
        },
        {
            "cell_type": "markdown",
            "metadata": {
                "id": "ovtZtYrFp5Zs"
            },
            "source": [
                "# Patreon\n",
                "☕️ Please consider to support me in Patreon 🍻\n",
                "\n",
                "[https://www.patreon.com/lifeisboringsoprogramming](https://www.patreon.com/lifeisboringsoprogramming)"
            ]
        }
    ],
    "metadata": {
        "colab": {
            "provenance": []
        },
        "kernelspec": {
            "display_name": "Python 3",
            "name": "python3"
        },
        "language_info": {
            "name": "python"
        }
    },
    "nbformat": 4,
    "nbformat_minor": 0
}