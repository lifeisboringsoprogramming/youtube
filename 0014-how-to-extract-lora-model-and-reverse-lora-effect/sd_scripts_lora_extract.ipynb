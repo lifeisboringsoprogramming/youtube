{
  "nbformat": 4,
  "nbformat_minor": 0,
  "metadata": {
    "colab": {
      "provenance": []
    },
    "kernelspec": {
      "name": "python3",
      "display_name": "Python 3"
    },
    "language_info": {
      "name": "python"
    },
    "accelerator": "GPU",
    "gpuClass": "standard"
  },
  "cells": [
    {
      "cell_type": "markdown",
      "metadata": {
        "colab_type": "text",
        "id": "view-in-github"
      },
      "source": [
        "<a href=\"https://colab.research.google.com/github/lifeisboringsoprogramming/youtube/blob/master/0014-how-to-extract-lora-model-and-reverse-lora-effect/sd_scripts_lora_extract.ipynb\" target=\"_parent\"><img src=\"https://colab.research.google.com/assets/colab-badge.svg\" alt=\"Open In Colab\"/></a>"
      ]
    },
    {
      "cell_type": "markdown",
      "source": [
        "[![How to extract LoRA model and reverse LoRA effect stable diffusion tutorial](https://img.youtube.com/vi/mWTKJQxjKAs/sddefault.jpg)](https://www.youtube.com/watch?v=mWTKJQxjKAs)"
      ],
      "metadata": {
        "id": "pBbeMmDZIA6w"
      }
    },
    {
      "cell_type": "markdown",
      "source": [
        "# Clone the sd-scripts repository"
      ],
      "metadata": {
        "id": "yw-ci4cMyqey"
      }
    },
    {
      "cell_type": "code",
      "source": [
        "!git clone https://github.com/kohya-ss/sd-scripts.git"
      ],
      "metadata": {
        "id": "3lqVkdVbnnXm"
      },
      "execution_count": null,
      "outputs": []
    },
    {
      "cell_type": "markdown",
      "source": [
        "# Install PyTorch "
      ],
      "metadata": {
        "id": "vHRoAzOuyybz"
      }
    },
    {
      "cell_type": "code",
      "source": [
        "!pip install torch==1.12.1+cu116 torchvision==0.13.1+cu116 --extra-index-url https://download.pytorch.org/whl/cu116"
      ],
      "metadata": {
        "id": "3LOmZTVwjGzi"
      },
      "execution_count": null,
      "outputs": []
    },
    {
      "cell_type": "markdown",
      "source": [
        "# Install requirements"
      ],
      "metadata": {
        "id": "PGwqxvb9y4m0"
      }
    },
    {
      "cell_type": "code",
      "source": [
        "!cd /content/sd-scripts && pip install -r requirements.txt"
      ],
      "metadata": {
        "id": "KM9v8Y8xgycJ"
      },
      "execution_count": null,
      "outputs": []
    },
    {
      "cell_type": "markdown",
      "source": [
        "# Download sample checkpoint models"
      ],
      "metadata": {
        "id": "cpyTI0X1y8V8"
      }
    },
    {
      "cell_type": "code",
      "source": [
        "!wget https://civitai.com/api/download/models/18617 -O pixarStyleModel_v10.safetensors\n",
        "!wget https://civitai.com/api/download/models/102 -O vanGoghDiffusion_v1.ckpt\n",
        "!wget https://huggingface.co/runwayml/stable-diffusion-v1-5/resolve/main/v1-5-pruned-emaonly.safetensors -O v1-5-pruned-emaonly.safetensors"
      ],
      "metadata": {
        "id": "Lx6QHRbVoELk"
      },
      "execution_count": null,
      "outputs": []
    },
    {
      "cell_type": "markdown",
      "source": [
        "# Extract reverse vanGoghDiffusion_v1 LoRA models from v1-5-pruned-emaonly"
      ],
      "metadata": {
        "id": "a8pOdjcYzAQU"
      }
    },
    {
      "cell_type": "code",
      "source": [
        "!python sd-scripts/networks/extract_lora_from_models.py \\\n",
        "--save_precision fp16 \\\n",
        "--model_org /content/vanGoghDiffusion_v1.ckpt \\\n",
        "--model_tuned /content/v1-5-pruned-emaonly.safetensors \\\n",
        "--save_to /content/vanGoghDiffusion_v1_Lora_reverse.safetensors \\\n",
        "--dim 128 \n"
      ],
      "metadata": {
        "id": "NUuDHEJHiHwD"
      },
      "execution_count": null,
      "outputs": []
    },
    {
      "cell_type": "markdown",
      "source": [
        "# Extract reverse pixarStyleModel_v10 LoRA models from v1-5-pruned-emaonly"
      ],
      "metadata": {
        "id": "h6TRWPmQzMxO"
      }
    },
    {
      "cell_type": "code",
      "source": [
        "!python sd-scripts/networks/extract_lora_from_models.py \\\n",
        "--save_precision fp16 \\\n",
        "--model_org /content/pixarStyleModel_v10.safetensors \\\n",
        "--model_tuned /content/v1-5-pruned-emaonly.safetensors \\\n",
        "--save_to /content/pixarStyleModel_v10_Lora_reverse.safetensors \\\n",
        "--dim 128 \n"
      ],
      "metadata": {
        "id": "4dibQL-gx6sV"
      },
      "execution_count": null,
      "outputs": []
    },
    {
      "cell_type": "markdown",
      "source": [
        "# Try upload your cehckpoint and extract LoRA from it\n",
        "You can drag and drop your checkpoints from your computer to the hard drive on google colab\n",
        "\n",
        "modify the scripts to use your uploaded checkpoint\n",
        "\n",
        "Enjoy!"
      ],
      "metadata": {
        "id": "subzCHO1zqjx"
      }
    },
    {
      "cell_type": "code",
      "source": [
        "# extract your Reversed LoRA model here\n",
        "# remove the comment # below\n",
        "# replace my-own-lora to your output LoRA model name\n",
        "# replace the uploaded-checkpoint-01 to your uploaded checkpoint\n",
        "\n",
        "# !python sd-scripts/networks/extract_lora_from_models.py \\\n",
        "# --save_precision fp16 \\\n",
        "# --model_org /content/uploaded-checkpoint-01.safetensors \\\n",
        "# --model_tuned /content/v1-5-pruned-emaonly.safetensors \\\n",
        "# --save_to /content/my-own-lora-reverse.safetensors \\\n",
        "# --dim 128 \n"
      ],
      "metadata": {
        "id": "81mF0Z_Mzs0R"
      },
      "execution_count": null,
      "outputs": []
    },
    {
      "cell_type": "code",
      "source": [
        "# extract your Normal LoRA model here\n",
        "# remove the comment # below\n",
        "# replace my-own-lora to your output LoRA model name\n",
        "# replace the uploaded-checkpoint-01 to your uploaded checkpoint\n",
        "\n",
        "# !python sd-scripts/networks/extract_lora_from_models.py \\\n",
        "# --save_precision fp16 \\\n",
        "# --model_org /content/v1-5-pruned-emaonly.safetensors \\\n",
        "# --model_tuned /content/uploaded-checkpoint-01.safetensors \\\n",
        "# --save_to /content/my-own-lora-normal.safetensors \\\n",
        "# --dim 128 \n"
      ],
      "metadata": {
        "id": "0lNmmNtsQnm6"
      },
      "execution_count": null,
      "outputs": []
    },
    {
      "attachments": {},
      "cell_type": "markdown",
      "metadata": {},
      "source": [
        "# Patreon\n",
        "☕️ Please consider to support me in Patreon 🍻\n",
        "\n",
        "[https://www.patreon.com/lifeisboringsoprogramming](https://www.patreon.com/lifeisboringsoprogramming)"
      ]
    }
  ]
}